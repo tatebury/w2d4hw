{
 "cells": [
  {
   "cell_type": "markdown",
   "id": "13eb292f",
   "metadata": {},
   "source": [
    "### Exercise 1 - Turn the shopping cart program from yesterday into an object-oriented program"
   ]
  },
  {
   "cell_type": "code",
   "execution_count": 27,
   "id": "ab4aa60b",
   "metadata": {},
   "outputs": [
    {
     "name": "stdout",
     "output_type": "stream",
     "text": [
      "Do you want to : Show/Add/Delete or Quit? q\n"
     ]
    }
   ],
   "source": [
    "from IPython.display import clear_output\n",
    "\n",
    "class Cart_actions():\n",
    "    def __init__(self, cart={}, count=1, item_found=False):\n",
    "        self.cart = cart\n",
    "        self.count = count\n",
    "        self.item_found = item_found\n",
    "        \n",
    "    def show(self):\n",
    "        for k,v in self.cart.items():\n",
    "            print(f\"{k}: {v}\")\n",
    "    \n",
    "    def add(self, to_add, count=1):\n",
    "        self.cart[to_add] = count\n",
    "\n",
    "\n",
    "    def delete(self, to_delete, count=1):\n",
    "        \n",
    "        for key, value in self.cart.items():\n",
    "            if str(key)==to_delete:\n",
    "                self.cart[key] -= count\n",
    "                if self.cart[key] < 0:\n",
    "                    self.cart[key] = 0\n",
    "                self.item_found = True\n",
    "                break\n",
    "        if not self.item_found:\n",
    "            print(\"It looks like that number/item isn't in your cart. \")\n",
    "\n",
    "    def clear(self):\n",
    "        print('Your cart is empty. ')\n",
    "\n",
    "        \n",
    "        \n",
    "\n",
    "class Shopping_cart_ui():\n",
    "    def __init__(self, Cart):\n",
    "        self.Cart = Cart\n",
    "    \n",
    "    def cart_UI():\n",
    "        while True:\n",
    "            action = input('Do you want to : Show/Add/Delete or Quit? ')\n",
    "\n",
    "            if action.lower()=='show' or action.lower()=='s':\n",
    "                print(\"Here is your shopping cart: \")\n",
    "                Cart.show()\n",
    "\n",
    "            elif action.lower()=='add' or action.lower()=='a':\n",
    "                count = 1\n",
    "                to_add = input('What would you like to add? (end with a space to specify number) ')\n",
    "                if to_add[-1]==' ':\n",
    "                    count = int(input(\"How many? \"))\n",
    "                Cart.add(to_add.strip(), count)\n",
    "\n",
    "            elif action.lower()=='delete' or action.lower()=='d':\n",
    "                count = 1\n",
    "                to_delete = input('What do you want to delete? (end with a space to specify number) ')\n",
    "                if to_delete[-1]==' ':\n",
    "                    count = int(input(\"How many? \"))                \n",
    "                Cart.delete(to_delete.strip(), count)\n",
    "                \n",
    "            elif action.lower()=='quit' or action.lower()=='q':\n",
    "                Cart.show()\n",
    "                break\n",
    "\n",
    "            else:\n",
    "                print(\"Sorry, I don't recognize that command.\")\n",
    "    \n",
    "\n",
    "\n",
    "Cart = Cart_actions()\n",
    "Shopping_cart_ui({})\n",
    "Shopping_cart_ui.cart_UI()\n",
    "\n",
    "\n"
   ]
  },
  {
   "cell_type": "markdown",
   "id": "f88292ee",
   "metadata": {},
   "source": [
    "### Exercise 2 - Write a Python class which has two methods get_String and print_String. get_String accept a string from the user and print_String print the string in upper case"
   ]
  },
  {
   "cell_type": "code",
   "execution_count": 15,
   "id": "fb7d6ac9",
   "metadata": {},
   "outputs": [
    {
     "name": "stdout",
     "output_type": "stream",
     "text": [
      "Enter some words: i am not shouting\n",
      "I AM NOT SHOUTING\n"
     ]
    }
   ],
   "source": [
    "\n",
    "class Strings():\n",
    "#     def __init__(self, input_str):\n",
    "#         self.input_str = input_str\n",
    "        \n",
    "    def get_String(self):\n",
    "        input_str = input(\"Enter some words: \")\n",
    "        Strings().print_String(input_str)\n",
    "        pass\n",
    "    \n",
    "    def print_String(self, input_str):\n",
    "        print(input_str.upper())\n",
    "        pass\n",
    "    \n",
    "    \n",
    "Strings().get_String()\n",
    "    "
   ]
  }
 ],
 "metadata": {
  "kernelspec": {
   "display_name": "Python 3",
   "language": "python",
   "name": "python3"
  },
  "language_info": {
   "codemirror_mode": {
    "name": "ipython",
    "version": 3
   },
   "file_extension": ".py",
   "mimetype": "text/x-python",
   "name": "python",
   "nbconvert_exporter": "python",
   "pygments_lexer": "ipython3",
   "version": "3.8.8"
  }
 },
 "nbformat": 4,
 "nbformat_minor": 5
}
